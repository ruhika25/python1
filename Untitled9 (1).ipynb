{
  "metadata": {
    "kernelspec": {
      "name": "python",
      "display_name": "Python (Pyodide)",
      "language": "python"
    },
    "language_info": {
      "codemirror_mode": {
        "name": "python",
        "version": 3
      },
      "file_extension": ".py",
      "mimetype": "text/x-python",
      "name": "python",
      "nbconvert_exporter": "python",
      "pygments_lexer": "ipython3",
      "version": "3.8"
    }
  },
  "nbformat_minor": 4,
  "nbformat": 4,
  "cells": [
    {
      "cell_type": "code",
      "source": "def linear_Search(list1, n, key):\n    for i in range(0, n):\n        if(list[i] == key):\n            return i\n    return -1\nlist1 = [1, 3, 5, 4, 7, 9]\nkey = 3\nn = len(list1)\nres = linear_Search(list1, n, key)\nif (res == -1):\n    print(\" Element not found\")\nelse:\n    print(\"Element fount at index:\") , res",
      "metadata": {
        "trusted": true
      },
      "outputs": [
        {
          "name": "stdout",
          "text": " Element not found\n",
          "output_type": "stream"
        }
      ],
      "execution_count": 3
    },
    {
      "cell_type": "code",
      "source": "a=float(input(\"enter a coefficient a:\"))\nb=float(input(\"enter a coefficient b:\"))\nc=float(input(\"enter a coefficient c:\"))\ndiscriminant=b**2-4*a*c\nif discriminant>0:\n    points=20\n    root_type=\"real and distinct roots\"\nelif discriminant==0:\n    points=10\n    root_type=\"equal roots\"\nelse:\n    points=10\n    root_type=\"imaginary roots\"\nprint(f\"discriminant:{discriminant}\")",
      "metadata": {
        "trusted": true
      },
      "outputs": [],
      "execution_count": null
    },
    {
      "cell_type": "code",
      "source": "def insert_sort_linear(arr,key):\n    for i in range(1,len(arr)):\n        a=arr[i]\n        j=i-1\n        while j>=0 and a<arr[j]:\n            arr[j+1]=arr[j]\n            j-=1\n        arr[j+1]=a\n        pos=-1\n        for i in range(i+1):\n            if (arr[i]==key):\n                return i\narr=[40,10,20,50,30]\ninsert_sort_linear(arr,30)\nprint(\"the sorted list is :\",arr)\nprint(\"element:\",pos)",
      "metadata": {
        "trusted": true
      },
      "outputs": [
        {
          "name": "stdout",
          "text": "the sorted list is : [10, 20, 30, 40, 50]\n",
          "output_type": "stream"
        },
        {
          "ename": "<class 'NameError'>",
          "evalue": "name 'pos' is not defined",
          "traceback": [
            "\u001b[0;31m---------------------------------------------------------------------------\u001b[0m",
            "\u001b[0;31mNameError\u001b[0m                                 Traceback (most recent call last)",
            "Cell \u001b[0;32mIn[5], line 16\u001b[0m\n\u001b[1;32m     14\u001b[0m insert_sort_linear(arr,\u001b[38;5;241m30\u001b[39m)\n\u001b[1;32m     15\u001b[0m \u001b[38;5;28mprint\u001b[39m(\u001b[38;5;124m\"\u001b[39m\u001b[38;5;124mthe sorted list is :\u001b[39m\u001b[38;5;124m\"\u001b[39m,arr)\n\u001b[0;32m---> 16\u001b[0m \u001b[38;5;28mprint\u001b[39m(\u001b[38;5;124m\"\u001b[39m\u001b[38;5;124melement:\u001b[39m\u001b[38;5;124m\"\u001b[39m,\u001b[43mpos\u001b[49m)\n",
            "\u001b[0;31mNameError\u001b[0m: name 'pos' is not defined"
          ],
          "output_type": "error"
        }
      ],
      "execution_count": 5
    },
    {
      "cell_type": "code",
      "source": "def linear_Search(list1, n, key):\n    for i in range(0, n):\n        if(list[i] == key):\n            return i\n    return -1\nlist1 = [1, 3, 5, 4, 7, 9]\nkey = 3\nn = len(list1)\nres = linear_Search(list1, n, key)\nif (res == -1):\n    print(\" Element not found\")\nelse:\n    print(\"Element fount at index:\") , res",
      "metadata": {
        "trusted": true
      },
      "outputs": [
        {
          "name": "stdout",
          "text": " Element not found\n",
          "output_type": "stream"
        }
      ],
      "execution_count": 6
    },
    {
      "cell_type": "code",
      "source": "list=[\"1\",\"2\",\"3\",\"1\",\"4\",\"3\"]\nuniquelist=[ ]\nfor item in list:\n    if item not in uniquelist:\n        uniquelist.append(item)\nprint(uniquelist)",
      "metadata": {
        "trusted": true
      },
      "outputs": [
        {
          "name": "stdout",
          "text": "['1', '2', '3', '4']\n",
          "output_type": "stream"
        }
      ],
      "execution_count": 7
    },
    {
      "cell_type": "code",
      "source": "list=[\"1\",\"2\",\"3\",\"1\",\"4\",\"3\"]\nuni=[ ]\nfor item in list:\n    if item not in uni:\n        uni.append(item)\nprint(uni)",
      "metadata": {
        "trusted": true
      },
      "outputs": [
        {
          "name": "stdout",
          "text": "['1', '2', '3', '4']\n",
          "output_type": "stream"
        }
      ],
      "execution_count": 8
    },
    {
      "cell_type": "code",
      "source": "tuple=(\"1\",\"@\",\"4\",\"5\")\nset=set(tuple)\nprint(set)",
      "metadata": {
        "trusted": true
      },
      "outputs": [
        {
          "name": "stdout",
          "text": "{'5', '4', '1', '@'}\n",
          "output_type": "stream"
        }
      ],
      "execution_count": 9
    },
    {
      "cell_type": "code",
      "source": "list=[\"1\",\"@\",\"#3\"]\nlist.reverse()\nprint(list)",
      "metadata": {
        "trusted": true
      },
      "outputs": [
        {
          "name": "stdout",
          "text": "['#3', '@', '1']\n",
          "output_type": "stream"
        }
      ],
      "execution_count": 10
    },
    {
      "cell_type": "code",
      "source": "list=[\"1\",\"@\",\"#3\"]\nlist.insert(3,\"0\")\nprint(list)",
      "metadata": {
        "trusted": true
      },
      "outputs": [
        {
          "name": "stdout",
          "text": "['1', '@', '#3', '0']\n",
          "output_type": "stream"
        }
      ],
      "execution_count": 11
    },
    {
      "cell_type": "code",
      "source": "list=[\"10\",\"20\",\"30\",\"40\",\"50\"]\nlist.insert(2,\"25\")\nprint(list)",
      "metadata": {
        "trusted": true
      },
      "outputs": [
        {
          "name": "stdout",
          "text": "['10', '20', '25', '30', '40', '50']\n",
          "output_type": "stream"
        }
      ],
      "execution_count": 12
    },
    {
      "cell_type": "code",
      "source": "list=[\"90\",\"20\",\"60\",\"40\",\"50\"]\nlist.sort(reverse=True)\nnew=list[3]\nprint(new)",
      "metadata": {
        "trusted": true
      },
      "outputs": [
        {
          "name": "stdout",
          "text": "40\n",
          "output_type": "stream"
        }
      ],
      "execution_count": 13
    },
    {
      "cell_type": "code",
      "source": "list=[\"90\",\"20\",\"60\",\"40\",\"50\"]\nmax1=max(list)\nprint(max1)\nlist.remove(max1)\nmax2=max(list)\nprint(max2)",
      "metadata": {
        "trusted": true
      },
      "outputs": [
        {
          "name": "stdout",
          "text": "90\n60\n",
          "output_type": "stream"
        }
      ],
      "execution_count": 14
    },
    {
      "cell_type": "code",
      "source": "tuple=(\"apple\",\"banana\",\"cherry\")\n(red,yellow,pink)=tuple\nprint(red)\nprint(yellow)\nprint(pink)",
      "metadata": {
        "trusted": true
      },
      "outputs": [
        {
          "name": "stdout",
          "text": "apple\nbanana\ncherry\n",
          "output_type": "stream"
        }
      ],
      "execution_count": 15
    }
  ]
}