{
  "metadata": {
    "kernelspec": {
      "name": "python",
      "display_name": "Python (Pyodide)",
      "language": "python"
    },
    "language_info": {
      "codemirror_mode": {
        "name": "python",
        "version": 3
      },
      "file_extension": ".py",
      "mimetype": "text/x-python",
      "name": "python",
      "nbconvert_exporter": "python",
      "pygments_lexer": "ipython3",
      "version": "3.8"
    }
  },
  "nbformat_minor": 4,
  "nbformat": 4,
  "cells": [
    {
      "cell_type": "code",
      "source": "def linear_Search(list1, n, key):\n    for i in range(0, n):\n        if(list[i] == key):\n            return i\n    return -1\nlist1 = [1, 3, 5, 4, 7, 9]\nkey = 3\nn = len(list1)\nres = linear_Search(list1, n, key)\nif (res == -1):\n    print(\" Element not found\")\nelse:\n    print(\"Element fount at index:\") , res",
      "metadata": {
        "trusted": true
      },
      "outputs": [
        {
          "name": "stdout",
          "text": " Element not found\n",
          "output_type": "stream"
        }
      ],
      "execution_count": 3
    },
    {
      "cell_type": "code",
      "source": "a=float(input(\"enter a coefficient a:\"))\nb=float(input(\"enter a coefficient b:\"))\nc=float(input(\"enter a coefficient c:\"))\ndiscriminant=b**2-4*a*c\nif discriminant>0:\n    points=20\n    root_type=\"real and distinct roots\"\nelif discriminant==0:\n    points=10\n    root_type=\"equal roots\"\nelse:\n    points=10\n    root_type=\"imaginary roots\"\nprint(f\"discriminant:{discriminant}\")",
      "metadata": {
        "trusted": true
      },
      "outputs": [],
      "execution_count": null
    }
  ]
}