{
  "metadata": {
    "kernelspec": {
      "name": "python",
      "display_name": "Python (Pyodide)",
      "language": "python"
    },
    "language_info": {
      "codemirror_mode": {
        "name": "python",
        "version": 3
      },
      "file_extension": ".py",
      "mimetype": "text/x-python",
      "name": "python",
      "nbconvert_exporter": "python",
      "pygments_lexer": "ipython3",
      "version": "3.8"
    }
  },
  "nbformat_minor": 4,
  "nbformat": 4,
  "cells": [
    {
      "cell_type": "code",
      "source": "n=5\nfor i in range(n):\n   for j in range(n):\n    print('*',end=' ')\n   print()",
      "metadata": {
        "trusted": true
      },
      "outputs": [
        {
          "name": "stdout",
          "text": "* * * * * \n* * * * * \n* * * * * \n* * * * * \n* * * * * \n",
          "output_type": "stream"
        }
      ],
      "execution_count": 9
    },
    {
      "cell_type": "code",
      "source": "n=5\np=1\nfor i in range(n):\n   for j in range(i+1):\n       print(p,end=' ')\n   p+=1\n   print()",
      "metadata": {
        "trusted": true
      },
      "outputs": [
        {
          "name": "stdout",
          "text": "1 \n2 2 \n3 3 3 \n4 4 4 4 \n5 5 5 5 5 \n",
          "output_type": "stream"
        }
      ],
      "execution_count": 69
    },
    {
      "cell_type": "code",
      "source": "n=5\nfor i in range(n):\n    for j in range(i,n):\n        print('*',end=' ')\n    print()",
      "metadata": {
        "trusted": true
      },
      "outputs": [
        {
          "name": "stdout",
          "text": "* * * * * \n* * * * \n* * * \n* * \n* \n",
          "output_type": "stream"
        }
      ],
      "execution_count": 14
    },
    {
      "cell_type": "code",
      "source": "n=5\nfor i in range(n):\n    for j in range(i,n):\n        print(' ',end=' ')\n    for j in range(i+1):\n        print('*',end=' ')\n    print()    ",
      "metadata": {
        "trusted": true
      },
      "outputs": [
        {
          "name": "stdout",
          "text": "          * \n        * * \n      * * * \n    * * * * \n  * * * * * \n",
          "output_type": "stream"
        }
      ],
      "execution_count": 23
    },
    {
      "cell_type": "raw",
      "source": "n=5\nfor i in range(n):\n    for j in range(i+n):\n        print(' ',end=' ')\n    for j in range(i,n):\n        print('*',end=' ')\n    print()\n    \n    ",
      "metadata": {}
    },
    {
      "cell_type": "code",
      "source": "n=5\nfor i in range(n):\n    for j in range(i,n):\n        print(' ',end=' ')\n    for j in range(i+1):\n        print('*',end=' ')\n    for j in range(i):\n        print('*',end=' ')\n    print()\n        ",
      "metadata": {
        "trusted": true
      },
      "outputs": [
        {
          "name": "stdout",
          "text": "          * \n        * * * \n      * * * * * \n    * * * * * * * \n  * * * * * * * * * \n",
          "output_type": "stream"
        }
      ],
      "execution_count": 29
    },
    {
      "cell_type": "code",
      "source": "n=5\nfor i in range(n): \n    for j in range(i+1):\n        print(' ',end=' ')\n    for j in range(i,n):\n        print('*',end=' ')\n    for j in range(i,n-1):\n        print('*',end=' ')\n    print()",
      "metadata": {
        "trusted": true
      },
      "outputs": [
        {
          "name": "stdout",
          "text": "  * * * * * * * * * \n    * * * * * * * \n      * * * * * \n        * * * \n          * \n",
          "output_type": "stream"
        }
      ],
      "execution_count": 31
    },
    {
      "cell_type": "code",
      "source": "n=5\nfor i in range(n-2):\n    for j in range(n+1):\n        print('*',end=' ')\n    print()",
      "metadata": {
        "trusted": true
      },
      "outputs": [
        {
          "name": "stdout",
          "text": "* * * * * * \n* * * * * * \n* * * * * * \n",
          "output_type": "stream"
        }
      ],
      "execution_count": 42
    },
    {
      "cell_type": "code",
      "source": "n=5\nfor i in range(n-1):\n    for j in range(i,n):\n        print(' ',end=' ')\n    for j in range(i+1):\n        print('*',end=' ')\n    for j in range(i):\n        print('*',end=' ')\n    print()\nn=5\nfor i in range(n): \n    for j in range(i+1):\n        print(' ',end=' ')\n    for j in range(i,n):\n        print('*',end=' ')\n    for j in range(i,n-1):\n        print('*',end=' ')\n    print()\n        ",
      "metadata": {
        "trusted": true
      },
      "outputs": [
        {
          "name": "stdout",
          "text": "          * \n        * * * \n      * * * * * \n    * * * * * * * \n  * * * * * * * * * \n    * * * * * * * \n      * * * * * \n        * * * \n          * \n",
          "output_type": "stream"
        }
      ],
      "execution_count": 48
    },
    {
      "cell_type": "code",
      "source": "",
      "metadata": {
        "trusted": true
      },
      "outputs": [],
      "execution_count": null
    },
    {
      "cell_type": "code",
      "source": "n=5\np=1\nfor i in range(n-1):\n    for j in range(i,n):\n        print(' ',end=' ')\n    for j in range(i+1):\n        print(p,end=' ')\n    for j in range(i):\n        print(p,end=' ')\n    print()\n    p+=1\nfor i in range(n): \n    for j in range(i+1):\n        print(' ',end=' ')\n    for j in range(i,n):\n        print(p,end=' ')\n    for j in range(i,n-1):\n        print(p,end=' ')\n    p-=1\n    print()\n        ",
      "metadata": {
        "trusted": true
      },
      "outputs": [
        {
          "name": "stdout",
          "text": "          1 \n        2 2 2 \n      3 3 3 3 3 \n    4 4 4 4 4 4 4 \n  5 5 5 5 5 5 5 5 5 \n    4 4 4 4 4 4 4 \n      3 3 3 3 3 \n        2 2 2 \n          1 \n",
          "output_type": "stream"
        }
      ],
      "execution_count": 75
    },
    {
      "cell_type": "code",
      "source": "n=5\nfor i in range(n): \n    for j in range(i+1):\n        print(' ',end=' ')\n    for j in range(i,n):\n        print('*',end=' ')\n    for j in range(i,n-1):\n        print('*',end=' ')\n    print()\nn=5\nfor i in range(n):\n    for j in range(i,n):\n        print(' ',end=' ')\n    for j in range(i+1):\n        print('*',end=' ')\n    for j in range(i):\n        print('*',end=' ')\n    print()\n        ",
      "metadata": {
        "trusted": true
      },
      "outputs": [
        {
          "name": "stdout",
          "text": "  * * * * * * * * * \n    * * * * * * * \n      * * * * * \n        * * * \n          * \n          * \n        * * * \n      * * * * * \n    * * * * * * * \n  * * * * * * * * * \n",
          "output_type": "stream"
        }
      ],
      "execution_count": 58
    },
    {
      "cell_type": "code",
      "source": "n=5\nfor i in range(n):\n    for j in range(i,n):\n        print(' ',end=' ')\n    for j in range(i+1):\n        print('*',end=' ')\n    print()\nfor i in range(n):\n    for j in range(i,n):\n        print('*',end=' ')\n    print()\n        ",
      "metadata": {
        "trusted": true
      },
      "outputs": [
        {
          "name": "stdout",
          "text": "          * \n        * * \n      * * * \n    * * * * \n  * * * * * \n* * * * * \n* * * * \n* * * \n* * \n* \n",
          "output_type": "stream"
        }
      ],
      "execution_count": 66
    },
    {
      "cell_type": "code",
      "source": "n=5\nfor i in range(n):\n    for j in range(i,n):\n        print(' ',end=' ')\n    for j in range(i+1):\n        print('*',end=' ')\n    print()\nfor i in range(n):\n    for j in range(i,n):\n        print('*',end=' ')\n    print()\n           ",
      "metadata": {
        "trusted": true
      },
      "outputs": [],
      "execution_count": null
    }
  ]
}