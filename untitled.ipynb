{
  "metadata": {
    "kernelspec": {
      "name": "python",
      "display_name": "Python (Pyodide)",
      "language": "python"
    },
    "language_info": {
      "codemirror_mode": {
        "name": "python",
        "version": 3
      },
      "file_extension": ".py",
      "mimetype": "text/x-python",
      "name": "python",
      "nbconvert_exporter": "python",
      "pygments_lexer": "ipython3",
      "version": "3.8"
    }
  },
  "nbformat_minor": 4,
  "nbformat": 4,
  "cells": [
    {
      "cell_type": "code",
      "source": "\n\ndef factorial(n):\n    if n == 0 or n == 1: \n        return 1\n    else:\n        return n * factorial(n - 1)  \n print(factorial(5))",
      "metadata": {
        "trusted": true
      },
      "outputs": [
        {
          "name": "stdout",
          "text": "120\n",
          "output_type": "stream"
        }
      ],
      "execution_count": 2
    },
    {
      "cell_type": "code",
      "source": "def sSorting(array,n):\n    for i in range(n):\n        min=i\n        for j in range(i+1,n):\n            if array[i]<array[j]:\n                min=j\n                array[i],array[min]=array[min],array[i]\ndata=[5,4,3,2,1]\nn=len(data)            \nsSorting(data,n)\nprint('the ascending order is-')\nprint(data)",
      "metadata": {
        "trusted": true
      },
      "outputs": [
        {
          "name": "stdout",
          "text": "the ascending order is-\n[5, 4, 3, 2, 1]\n",
          "output_type": "stream"
        }
      ],
      "execution_count": 8
    },
    {
      "cell_type": "code",
      "source": "def fibonacci(n):\n    if n<=1:\n        return n\n    return fibonacci(n-1)+fibonacci(n-2)\nprint(fibonacci(2))",
      "metadata": {
        "trusted": true
      },
      "outputs": [
        {
          "name": "stdout",
          "text": "1\n",
          "output_type": "stream"
        }
      ],
      "execution_count": 4
    },
    {
      "cell_type": "code",
      "source": " def is_palindrome(s):\n    if len(s) <= 1:\n        return True\n    if s[0] != s[-1]:\n        return False\n    return is_palindrome(s[1:-1])\n print(is_palindrome(\"racecar\"))\n\n",
      "metadata": {
        "trusted": true
      },
      "outputs": [
        {
          "name": "stdout",
          "text": "True\n",
          "output_type": "stream"
        }
      ],
      "execution_count": 7
    },
    {
      "cell_type": "code",
      "source": "thidict ={\n    \"brand\":\"ford\",\n    \"model\":\"mustang,\n    \"year\":1964 \n}\nx=thisdict.popiteam()\nprint(this dict)",
      "metadata": {
        "trusted": true
      },
      "outputs": [
        {
          "ename": "<class 'SyntaxError'>",
          "evalue": "unterminated string literal (detected at line 3) (<ipython-input-7-a6511e1c1b4b>, line 3)",
          "traceback": [
            "\u001b[0;36m  Cell \u001b[0;32mIn[7], line 3\u001b[0;36m\u001b[0m\n\u001b[0;31m    \"model\":\"mustang,\u001b[0m\n\u001b[0m            ^\u001b[0m\n\u001b[0;31mSyntaxError\u001b[0m\u001b[0;31m:\u001b[0m unterminated string literal (detected at line 3)\n"
          ],
          "output_type": "error"
        }
      ],
      "execution_count": 7
    },
    {
      "cell_type": "code",
      "source": "thisdict ={\n    \"brand\":\"ford\",\n    \"model\":\"mustang\",\n    \"year\":1964 \n}\nx=thisdict.clear()\nprint(thisdict)",
      "metadata": {
        "trusted": true
      },
      "outputs": [
        {
          "name": "stdout",
          "text": "{}\n",
          "output_type": "stream"
        }
      ],
      "execution_count": 12
    },
    {
      "cell_type": "code",
      "source": "fruits=",
      "metadata": {
        "trusted": true
      },
      "outputs": [
        {
          "ename": "<class 'TypeError'>",
          "evalue": "'builtin_function_or_method' object is not subscriptable",
          "traceback": [
            "\u001b[0;31m---------------------------------------------------------------------------\u001b[0m",
            "\u001b[0;31mTypeError\u001b[0m                                 Traceback (most recent call last)",
            "Cell \u001b[0;32mIn[9], line 2\u001b[0m\n\u001b[1;32m      1\u001b[0m fruits\u001b[38;5;241m=\u001b[39m[\u001b[38;5;124m\"\u001b[39m\u001b[38;5;124mapple\u001b[39m\u001b[38;5;124m\"\u001b[39m,\u001b[38;5;124m\"\u001b[39m\u001b[38;5;124morange\u001b[39m\u001b[38;5;124m\"\u001b[39m,\u001b[38;5;124m\"\u001b[39m\u001b[38;5;124mpineapple\u001b[39m\u001b[38;5;124m\"\u001b[39m]\n\u001b[0;32m----> 2\u001b[0m \u001b[43mfruits\u001b[49m\u001b[38;5;241;43m.\u001b[39;49m\u001b[43mappend\u001b[49m\u001b[43m[\u001b[49m\u001b[38;5;124;43m\"\u001b[39;49m\u001b[38;5;124;43mcherry\u001b[39;49m\u001b[38;5;124;43m\"\u001b[39;49m\u001b[43m]\u001b[49m\n\u001b[1;32m      3\u001b[0m \u001b[38;5;28mprint\u001b[39m(fruits)\n",
            "\u001b[0;31mTypeError\u001b[0m: 'builtin_function_or_method' object is not subscriptable"
          ],
          "output_type": "error"
        }
      ],
      "execution_count": 9
    },
    {
      "cell_type": "code",
      "source": "a=[100,1,2,3]\na.append([4,5])\n\nprint(a)",
      "metadata": {
        "trusted": true
      },
      "outputs": [
        {
          "name": "stdout",
          "text": "[100, 1, 2, 3, [4, 5]]\n",
          "output_type": "stream"
        }
      ],
      "execution_count": 16
    },
    {
      "cell_type": "code",
      "source": "a=[100,1,2,3]\na.extend([4,5])\nprint(a)",
      "metadata": {
        "trusted": true
      },
      "outputs": [
        {
          "name": "stdout",
          "text": "[100, 1, 2, 3, 4, 5]\n",
          "output_type": "stream"
        }
      ],
      "execution_count": 14
    },
    {
      "cell_type": "code",
      "source": "a=[100,1,2,3]\nb=a.reverse\nprint(b)",
      "metadata": {
        "trusted": true
      },
      "outputs": [
        {
          "name": "stdout",
          "text": "<built-in method reverse of list object at 0x250b570>\n",
          "output_type": "stream"
        }
      ],
      "execution_count": 20
    },
    {
      "cell_type": "code",
      "source": "names=[jishnu,jashwanth,sanjana,thianeshwer,chinmaya]\ny=[x for x in names if 'j' in x]\nprint(y)",
      "metadata": {
        "trusted": true
      },
      "outputs": [],
      "execution_count": null
    },
    {
      "cell_type": "code",
      "source": "string=\"programming\"\nvowel=\"AaEeIiOoUu\"\ncount=sum(1 for char in string if char in vowel)\nprint(count)",
      "metadata": {
        "trusted": true
      },
      "outputs": [
        {
          "name": "stdout",
          "text": "3\n",
          "output_type": "stream"
        }
      ],
      "execution_count": 1
    },
    {
      "cell_type": "code",
      "source": "string=\"ruhika chinmaya\"\nvowel=\"AaEeIiOoUu\"\ncount=sum(1 for char in string if char in vowel)\nprint(count)",
      "metadata": {
        "trusted": true
      },
      "outputs": [
        {
          "name": "stdout",
          "text": "6\n",
          "output_type": "stream"
        }
      ],
      "execution_count": 5
    },
    {
      "cell_type": "code",
      "source": "string=[12,34,56,78]\nstring[1:2]=[25]\nprint(string)\n\n",
      "metadata": {
        "trusted": true
      },
      "outputs": [
        {
          "name": "stdout",
          "text": "[12, 25, 56, 78]\n",
          "output_type": "stream"
        }
      ],
      "execution_count": 8
    },
    {
      "cell_type": "code",
      "source": "x=\"oythok gfdse bhijyt nji98tgbb n\"\ny=x.split()\nprint(y)",
      "metadata": {
        "trusted": true
      },
      "outputs": [
        {
          "name": "stdout",
          "text": "['oythok', 'gfdse', 'bhijyt', 'nji98tgbb', 'n']\n",
          "output_type": "stream"
        }
      ],
      "execution_count": 12
    },
    {
      "cell_type": "code",
      "source": "sentence=\"python is fun\"\nlong=sentence.split()\nword=' '\nfor i in long:\n    if(len(i)>len(word)):\n        word=i\nprint(word)",
      "metadata": {
        "trusted": true
      },
      "outputs": [
        {
          "name": "stdout",
          "text": "python\n",
          "output_type": "stream"
        }
      ],
      "execution_count": 9
    },
    {
      "cell_type": "code",
      "source": "x=\"programmin is awsesome\"",
      "metadata": {
        "trusted": true
      },
      "outputs": [],
      "execution_count": null
    },
    {
      "cell_type": "code",
      "source": "n=5\nfor i in range(n):\n    for j in range(n)\n    print('*')\nprint()",
      "metadata": {
        "trusted": true
      },
      "outputs": [],
      "execution_count": null
    },
    {
      "cell_type": "code",
      "source": "def insertionSort(array,n):\n if n<=1:\n     return\n     for i in range(1,n):\n         key=array[i]\n         j=i-1\n        while j>=0 and key<array[j]:\n         array[j+1]=array[j]\n         j=-1\n         array[j+1]=key\ndata=[9,5,1,4,3]\nn=len(data)\ninsertionSort(data,n)\nprint(\"the descending order is\")\nprint(data)\n        ",
      "metadata": {
        "trusted": true
      },
      "outputs": [],
      "execution_count": null
    },
    {
      "cell_type": "code",
      "source": "def Ssorting(array):\n    n=len(array)\n    for i in range(n):\n        min=i\n        for j in range(i+1,n):\n            if array[j]<array[i]:\n               min=j\n               array[i],array[min]=array[min],array[i]\ndata=int(input(\"enter five elements\"))\ndata=data.split(\",\")\narray=list(data)\nSsorting(array)\nprint(\"The sorted array is :\", array)",
      "metadata": {
        "trusted": true
      },
      "outputs": [],
      "execution_count": null
    },
    {
      "cell_type": "code",
      "source": "",
      "metadata": {
        "trusted": true
      },
      "outputs": [],
      "execution_count": null
    }
  ]
}